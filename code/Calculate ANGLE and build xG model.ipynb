{
  "metadata": {
    "name": "Calculate ANGLE and build xG model",
    "kernelspec": {
      "language": "scala",
      "name": "spark2-scala"
    },
    "language_info": {
      "codemirror_mode": "text/x-scala",
      "file_extension": ".scala",
      "mimetype": "text/x-scala",
      "name": "scala",
      "pygments_lexer": "scala"
    }
  },
  "nbformat": 4,
  "nbformat_minor": 2,
  "cells": [
    {
      "cell_type": "code",
      "execution_count": 0,
      "metadata": {
        "autoscroll": "auto"
      },
      "outputs": [],
      "source": "%sql\nalter table event add angle number;"
    },
    {
      "cell_type": "code",
      "execution_count": 1,
      "metadata": {
        "autoscroll": "auto"
      },
      "outputs": [],
      "source": "%sql\nupdate event set angle \u003d \n  SDO_UTIL.CONVERT_UNIT(\n       atan((y_rel_m + (7.32/2)) / x_rel_m) - atan((y_rel_m - (7.32/2)) / x_rel_m)\n    , \u0027Radian\u0027, \u0027Degree\u0027\n    );"
    },
    {
      "cell_type": "code",
      "execution_count": 2,
      "metadata": {
        "autoscroll": "auto"
      },
      "outputs": [],
      "source": "%sql\nalter table event add angle_bucket number;"
    },
    {
      "cell_type": "code",
      "execution_count": 3,
      "metadata": {
        "autoscroll": "auto"
      },
      "outputs": [],
      "source": "%sql\nupdate event set angle_bucket \u003d floor(angle);"
    },
    {
      "cell_type": "code",
      "execution_count": 4,
      "metadata": {
        "autoscroll": "auto"
      },
      "outputs": [],
      "source": "%sql\ncreate table event_train as select event_id, angle, head, from_corner, set_piece, fast_break, is_goal from event where to_char(match_date, \u0027YYYY\u0027) in (\u00272017\u0027, \u00272018\u0027)\nand penalty \u003d \u0027N\u0027 and own_goal \u003d \u0027N\u0027;"
    },
    {
      "cell_type": "code",
      "execution_count": 5,
      "metadata": {
        "autoscroll": "auto"
      },
      "outputs": [],
      "source": "%sql\ncreate table model_parameters(setting_name varchar2(30), setting_value varchar2(4000));"
    },
    {
      "cell_type": "code",
      "execution_count": 6,
      "metadata": {
        "autoscroll": "auto"
      },
      "outputs": [],
      "source": "%sql\ninsert into model_parameters(setting_name, setting_value) values (\u0027ALGO_NAME\u0027, \u0027ALGO_GENERALIZED_LINEAR_MODEL\u0027);"
    },
    {
      "cell_type": "code",
      "execution_count": 7,
      "metadata": {
        "autoscroll": "auto"
      },
      "outputs": [],
      "source": "%sql\ncall dbms_data_mining.create_model(\u0027XG_MODEL\u0027, \u0027CLASSIFICATION\u0027, \u0027EVENT_TRAIN\u0027, \u0027EVENT_ID\u0027, \u0027IS_GOAL\u0027, \u0027MODEL_PARAMETERS\u0027);"
    },
    {
      "cell_type": "code",
      "execution_count": 8,
      "metadata": {
        "autoscroll": "auto"
      },
      "outputs": [],
      "source": "%sql\nalter table event add predicted_goal varchar2(1);"
    },
    {
      "cell_type": "code",
      "execution_count": 9,
      "metadata": {
        "autoscroll": "auto"
      },
      "outputs": [],
      "source": "%sql\nalter table event add xg number;"
    },
    {
      "cell_type": "code",
      "execution_count": 10,
      "metadata": {
        "autoscroll": "auto"
      },
      "outputs": [],
      "source": "%sql\nupdate event\nset predicted_goal \u003d PREDICTION(XG_MODEL USING *)\n, xg \u003d prediction_probability(XG_MODEL, \u0027Y\u0027 USING *);"
    },
    {
      "cell_type": "code",
      "execution_count": 11,
      "metadata": {
        "autoscroll": "auto"
      },
      "outputs": [],
      "source": "%sql\ncommit;"
    }
  ]
}