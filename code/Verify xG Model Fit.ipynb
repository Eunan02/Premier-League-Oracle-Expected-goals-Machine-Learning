{
  "metadata": {
    "name": "Verify xG Model Fit",
    "kernelspec": {
      "language": "scala",
      "name": "spark2-scala"
    },
    "language_info": {
      "codemirror_mode": "text/x-scala",
      "file_extension": ".scala",
      "mimetype": "text/x-scala",
      "name": "scala",
      "pygments_lexer": "scala"
    }
  },
  "nbformat": 4,
  "nbformat_minor": 2,
  "cells": [
    {
      "cell_type": "code",
      "execution_count": 0,
      "metadata": {
        "autoscroll": "auto"
      },
      "outputs": [],
      "source": "select angle_bucket, (sum(goal_cnt)/sum(event_count)) as score_percentage\r\nfrom event\r\ngroup by angle_bucket;"
    },
    {
      "cell_type": "code",
      "execution_count": 1,
      "metadata": {
        "autoscroll": "auto"
      },
      "outputs": [],
      "source": "%sql\nupdate predict_by_angle\nset predicted_goal \u003d prediction(XG_MODEL using angle)\n,   xg \u003d prediction_probability(XG_MODEL, \u0027Y\u0027 using angle);"
    },
    {
      "cell_type": "code",
      "execution_count": 2,
      "metadata": {
        "autoscroll": "auto"
      },
      "outputs": [],
      "source": "%sql\nselect * from predict_by_angle;"
    },
    {
      "cell_type": "code",
      "execution_count": 3,
      "metadata": {},
      "outputs": [],
      "source": "%%sql\n"
    }
  ]
}